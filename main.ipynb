{
  "nbformat": 4,
  "nbformat_minor": 0,
  "metadata": {
    "colab": {
      "provenance": [],
      "gpuType": "T4"
    },
    "kernelspec": {
      "name": "python3",
      "display_name": "Python 3"
    },
    "language_info": {
      "name": "python"
    },
    "accelerator": "GPU",
    "widgets": {
      "application/vnd.jupyter.widget-state+json": {
        "8b7dca55198049589aea2fba4b5e4367": {
          "model_module": "@jupyter-widgets/controls",
          "model_name": "HBoxModel",
          "model_module_version": "1.5.0",
          "state": {
            "_dom_classes": [],
            "_model_module": "@jupyter-widgets/controls",
            "_model_module_version": "1.5.0",
            "_model_name": "HBoxModel",
            "_view_count": null,
            "_view_module": "@jupyter-widgets/controls",
            "_view_module_version": "1.5.0",
            "_view_name": "HBoxView",
            "box_style": "",
            "children": [
              "IPY_MODEL_1f1a88cf9ab04f979efd4ea21bae1954",
              "IPY_MODEL_8c704bb61ec148bfb4fd351566f7c764",
              "IPY_MODEL_cd2f31674c8d49dc8c563b7539cd9574"
            ],
            "layout": "IPY_MODEL_2ee606a6b6da4c6b9c0427c39a4cf96f"
          }
        },
        "1f1a88cf9ab04f979efd4ea21bae1954": {
          "model_module": "@jupyter-widgets/controls",
          "model_name": "HTMLModel",
          "model_module_version": "1.5.0",
          "state": {
            "_dom_classes": [],
            "_model_module": "@jupyter-widgets/controls",
            "_model_module_version": "1.5.0",
            "_model_name": "HTMLModel",
            "_view_count": null,
            "_view_module": "@jupyter-widgets/controls",
            "_view_module_version": "1.5.0",
            "_view_name": "HTMLView",
            "description": "",
            "description_tooltip": null,
            "layout": "IPY_MODEL_90405b5f2bb4485ebaa7968c4b279934",
            "placeholder": "​",
            "style": "IPY_MODEL_ea5b20019184410c8bb787d0fb47909a",
            "value": "preprocessor_config.json: 100%"
          }
        },
        "8c704bb61ec148bfb4fd351566f7c764": {
          "model_module": "@jupyter-widgets/controls",
          "model_name": "FloatProgressModel",
          "model_module_version": "1.5.0",
          "state": {
            "_dom_classes": [],
            "_model_module": "@jupyter-widgets/controls",
            "_model_module_version": "1.5.0",
            "_model_name": "FloatProgressModel",
            "_view_count": null,
            "_view_module": "@jupyter-widgets/controls",
            "_view_module_version": "1.5.0",
            "_view_name": "ProgressView",
            "bar_style": "success",
            "description": "",
            "description_tooltip": null,
            "layout": "IPY_MODEL_44e0dc9a8e5a440399d7c140485844e3",
            "max": 212,
            "min": 0,
            "orientation": "horizontal",
            "style": "IPY_MODEL_9f747345e7054f86972e5d47292436b3",
            "value": 212
          }
        },
        "cd2f31674c8d49dc8c563b7539cd9574": {
          "model_module": "@jupyter-widgets/controls",
          "model_name": "HTMLModel",
          "model_module_version": "1.5.0",
          "state": {
            "_dom_classes": [],
            "_model_module": "@jupyter-widgets/controls",
            "_model_module_version": "1.5.0",
            "_model_name": "HTMLModel",
            "_view_count": null,
            "_view_module": "@jupyter-widgets/controls",
            "_view_module_version": "1.5.0",
            "_view_name": "HTMLView",
            "description": "",
            "description_tooltip": null,
            "layout": "IPY_MODEL_b5aa8410c7f6417f9bb61aa873abdacb",
            "placeholder": "​",
            "style": "IPY_MODEL_8a41d95c2b264a4387163c31656b86d9",
            "value": " 212/212 [00:00&lt;00:00, 6.79kB/s]"
          }
        },
        "2ee606a6b6da4c6b9c0427c39a4cf96f": {
          "model_module": "@jupyter-widgets/base",
          "model_name": "LayoutModel",
          "model_module_version": "1.2.0",
          "state": {
            "_model_module": "@jupyter-widgets/base",
            "_model_module_version": "1.2.0",
            "_model_name": "LayoutModel",
            "_view_count": null,
            "_view_module": "@jupyter-widgets/base",
            "_view_module_version": "1.2.0",
            "_view_name": "LayoutView",
            "align_content": null,
            "align_items": null,
            "align_self": null,
            "border": null,
            "bottom": null,
            "display": null,
            "flex": null,
            "flex_flow": null,
            "grid_area": null,
            "grid_auto_columns": null,
            "grid_auto_flow": null,
            "grid_auto_rows": null,
            "grid_column": null,
            "grid_gap": null,
            "grid_row": null,
            "grid_template_areas": null,
            "grid_template_columns": null,
            "grid_template_rows": null,
            "height": null,
            "justify_content": null,
            "justify_items": null,
            "left": null,
            "margin": null,
            "max_height": null,
            "max_width": null,
            "min_height": null,
            "min_width": null,
            "object_fit": null,
            "object_position": null,
            "order": null,
            "overflow": null,
            "overflow_x": null,
            "overflow_y": null,
            "padding": null,
            "right": null,
            "top": null,
            "visibility": null,
            "width": null
          }
        },
        "90405b5f2bb4485ebaa7968c4b279934": {
          "model_module": "@jupyter-widgets/base",
          "model_name": "LayoutModel",
          "model_module_version": "1.2.0",
          "state": {
            "_model_module": "@jupyter-widgets/base",
            "_model_module_version": "1.2.0",
            "_model_name": "LayoutModel",
            "_view_count": null,
            "_view_module": "@jupyter-widgets/base",
            "_view_module_version": "1.2.0",
            "_view_name": "LayoutView",
            "align_content": null,
            "align_items": null,
            "align_self": null,
            "border": null,
            "bottom": null,
            "display": null,
            "flex": null,
            "flex_flow": null,
            "grid_area": null,
            "grid_auto_columns": null,
            "grid_auto_flow": null,
            "grid_auto_rows": null,
            "grid_column": null,
            "grid_gap": null,
            "grid_row": null,
            "grid_template_areas": null,
            "grid_template_columns": null,
            "grid_template_rows": null,
            "height": null,
            "justify_content": null,
            "justify_items": null,
            "left": null,
            "margin": null,
            "max_height": null,
            "max_width": null,
            "min_height": null,
            "min_width": null,
            "object_fit": null,
            "object_position": null,
            "order": null,
            "overflow": null,
            "overflow_x": null,
            "overflow_y": null,
            "padding": null,
            "right": null,
            "top": null,
            "visibility": null,
            "width": null
          }
        },
        "ea5b20019184410c8bb787d0fb47909a": {
          "model_module": "@jupyter-widgets/controls",
          "model_name": "DescriptionStyleModel",
          "model_module_version": "1.5.0",
          "state": {
            "_model_module": "@jupyter-widgets/controls",
            "_model_module_version": "1.5.0",
            "_model_name": "DescriptionStyleModel",
            "_view_count": null,
            "_view_module": "@jupyter-widgets/base",
            "_view_module_version": "1.2.0",
            "_view_name": "StyleView",
            "description_width": ""
          }
        },
        "44e0dc9a8e5a440399d7c140485844e3": {
          "model_module": "@jupyter-widgets/base",
          "model_name": "LayoutModel",
          "model_module_version": "1.2.0",
          "state": {
            "_model_module": "@jupyter-widgets/base",
            "_model_module_version": "1.2.0",
            "_model_name": "LayoutModel",
            "_view_count": null,
            "_view_module": "@jupyter-widgets/base",
            "_view_module_version": "1.2.0",
            "_view_name": "LayoutView",
            "align_content": null,
            "align_items": null,
            "align_self": null,
            "border": null,
            "bottom": null,
            "display": null,
            "flex": null,
            "flex_flow": null,
            "grid_area": null,
            "grid_auto_columns": null,
            "grid_auto_flow": null,
            "grid_auto_rows": null,
            "grid_column": null,
            "grid_gap": null,
            "grid_row": null,
            "grid_template_areas": null,
            "grid_template_columns": null,
            "grid_template_rows": null,
            "height": null,
            "justify_content": null,
            "justify_items": null,
            "left": null,
            "margin": null,
            "max_height": null,
            "max_width": null,
            "min_height": null,
            "min_width": null,
            "object_fit": null,
            "object_position": null,
            "order": null,
            "overflow": null,
            "overflow_x": null,
            "overflow_y": null,
            "padding": null,
            "right": null,
            "top": null,
            "visibility": null,
            "width": null
          }
        },
        "9f747345e7054f86972e5d47292436b3": {
          "model_module": "@jupyter-widgets/controls",
          "model_name": "ProgressStyleModel",
          "model_module_version": "1.5.0",
          "state": {
            "_model_module": "@jupyter-widgets/controls",
            "_model_module_version": "1.5.0",
            "_model_name": "ProgressStyleModel",
            "_view_count": null,
            "_view_module": "@jupyter-widgets/base",
            "_view_module_version": "1.2.0",
            "_view_name": "StyleView",
            "bar_color": null,
            "description_width": ""
          }
        },
        "b5aa8410c7f6417f9bb61aa873abdacb": {
          "model_module": "@jupyter-widgets/base",
          "model_name": "LayoutModel",
          "model_module_version": "1.2.0",
          "state": {
            "_model_module": "@jupyter-widgets/base",
            "_model_module_version": "1.2.0",
            "_model_name": "LayoutModel",
            "_view_count": null,
            "_view_module": "@jupyter-widgets/base",
            "_view_module_version": "1.2.0",
            "_view_name": "LayoutView",
            "align_content": null,
            "align_items": null,
            "align_self": null,
            "border": null,
            "bottom": null,
            "display": null,
            "flex": null,
            "flex_flow": null,
            "grid_area": null,
            "grid_auto_columns": null,
            "grid_auto_flow": null,
            "grid_auto_rows": null,
            "grid_column": null,
            "grid_gap": null,
            "grid_row": null,
            "grid_template_areas": null,
            "grid_template_columns": null,
            "grid_template_rows": null,
            "height": null,
            "justify_content": null,
            "justify_items": null,
            "left": null,
            "margin": null,
            "max_height": null,
            "max_width": null,
            "min_height": null,
            "min_width": null,
            "object_fit": null,
            "object_position": null,
            "order": null,
            "overflow": null,
            "overflow_x": null,
            "overflow_y": null,
            "padding": null,
            "right": null,
            "top": null,
            "visibility": null,
            "width": null
          }
        },
        "8a41d95c2b264a4387163c31656b86d9": {
          "model_module": "@jupyter-widgets/controls",
          "model_name": "DescriptionStyleModel",
          "model_module_version": "1.5.0",
          "state": {
            "_model_module": "@jupyter-widgets/controls",
            "_model_module_version": "1.5.0",
            "_model_name": "DescriptionStyleModel",
            "_view_count": null,
            "_view_module": "@jupyter-widgets/base",
            "_view_module_version": "1.2.0",
            "_view_name": "StyleView",
            "description_width": ""
          }
        },
        "825802b9162c433b80c7c7cebaf9333c": {
          "model_module": "@jupyter-widgets/controls",
          "model_name": "HBoxModel",
          "model_module_version": "1.5.0",
          "state": {
            "_dom_classes": [],
            "_model_module": "@jupyter-widgets/controls",
            "_model_module_version": "1.5.0",
            "_model_name": "HBoxModel",
            "_view_count": null,
            "_view_module": "@jupyter-widgets/controls",
            "_view_module_version": "1.5.0",
            "_view_name": "HBoxView",
            "box_style": "",
            "children": [
              "IPY_MODEL_5dbb4ad5ffcb49a3a271f14651a2db65",
              "IPY_MODEL_cb10687df81b4ad2a916467800b21b9c",
              "IPY_MODEL_b5b2ca46585f4597aba8d98adaf3b6fc"
            ],
            "layout": "IPY_MODEL_e7cc76d6c66f40e4a5ba61497bfbd81a"
          }
        },
        "5dbb4ad5ffcb49a3a271f14651a2db65": {
          "model_module": "@jupyter-widgets/controls",
          "model_name": "HTMLModel",
          "model_module_version": "1.5.0",
          "state": {
            "_dom_classes": [],
            "_model_module": "@jupyter-widgets/controls",
            "_model_module_version": "1.5.0",
            "_model_name": "HTMLModel",
            "_view_count": null,
            "_view_module": "@jupyter-widgets/controls",
            "_view_module_version": "1.5.0",
            "_view_name": "HTMLView",
            "description": "",
            "description_tooltip": null,
            "layout": "IPY_MODEL_ad0b14e1e23a43afaec66553aa59254d",
            "placeholder": "​",
            "style": "IPY_MODEL_d4a70b7fb4e74ae6aa8005e0bccb2ffe",
            "value": "config.json: 100%"
          }
        },
        "cb10687df81b4ad2a916467800b21b9c": {
          "model_module": "@jupyter-widgets/controls",
          "model_name": "FloatProgressModel",
          "model_module_version": "1.5.0",
          "state": {
            "_dom_classes": [],
            "_model_module": "@jupyter-widgets/controls",
            "_model_module_version": "1.5.0",
            "_model_name": "FloatProgressModel",
            "_view_count": null,
            "_view_module": "@jupyter-widgets/controls",
            "_view_module_version": "1.5.0",
            "_view_name": "ProgressView",
            "bar_style": "success",
            "description": "",
            "description_tooltip": null,
            "layout": "IPY_MODEL_67305ec443a3457e90e8a7e8549c299f",
            "max": 1805,
            "min": 0,
            "orientation": "horizontal",
            "style": "IPY_MODEL_12537dd5d26f4fe5b917f496e797dba3",
            "value": 1805
          }
        },
        "b5b2ca46585f4597aba8d98adaf3b6fc": {
          "model_module": "@jupyter-widgets/controls",
          "model_name": "HTMLModel",
          "model_module_version": "1.5.0",
          "state": {
            "_dom_classes": [],
            "_model_module": "@jupyter-widgets/controls",
            "_model_module_version": "1.5.0",
            "_model_name": "HTMLModel",
            "_view_count": null,
            "_view_module": "@jupyter-widgets/controls",
            "_view_module_version": "1.5.0",
            "_view_name": "HTMLView",
            "description": "",
            "description_tooltip": null,
            "layout": "IPY_MODEL_83186d6e3d334e498ea1d3932176637c",
            "placeholder": "​",
            "style": "IPY_MODEL_6c7dbeda82b14cd2ae1a0526d23dcbfb",
            "value": " 1.80k/1.80k [00:00&lt;00:00, 49.6kB/s]"
          }
        },
        "e7cc76d6c66f40e4a5ba61497bfbd81a": {
          "model_module": "@jupyter-widgets/base",
          "model_name": "LayoutModel",
          "model_module_version": "1.2.0",
          "state": {
            "_model_module": "@jupyter-widgets/base",
            "_model_module_version": "1.2.0",
            "_model_name": "LayoutModel",
            "_view_count": null,
            "_view_module": "@jupyter-widgets/base",
            "_view_module_version": "1.2.0",
            "_view_name": "LayoutView",
            "align_content": null,
            "align_items": null,
            "align_self": null,
            "border": null,
            "bottom": null,
            "display": null,
            "flex": null,
            "flex_flow": null,
            "grid_area": null,
            "grid_auto_columns": null,
            "grid_auto_flow": null,
            "grid_auto_rows": null,
            "grid_column": null,
            "grid_gap": null,
            "grid_row": null,
            "grid_template_areas": null,
            "grid_template_columns": null,
            "grid_template_rows": null,
            "height": null,
            "justify_content": null,
            "justify_items": null,
            "left": null,
            "margin": null,
            "max_height": null,
            "max_width": null,
            "min_height": null,
            "min_width": null,
            "object_fit": null,
            "object_position": null,
            "order": null,
            "overflow": null,
            "overflow_x": null,
            "overflow_y": null,
            "padding": null,
            "right": null,
            "top": null,
            "visibility": null,
            "width": null
          }
        },
        "ad0b14e1e23a43afaec66553aa59254d": {
          "model_module": "@jupyter-widgets/base",
          "model_name": "LayoutModel",
          "model_module_version": "1.2.0",
          "state": {
            "_model_module": "@jupyter-widgets/base",
            "_model_module_version": "1.2.0",
            "_model_name": "LayoutModel",
            "_view_count": null,
            "_view_module": "@jupyter-widgets/base",
            "_view_module_version": "1.2.0",
            "_view_name": "LayoutView",
            "align_content": null,
            "align_items": null,
            "align_self": null,
            "border": null,
            "bottom": null,
            "display": null,
            "flex": null,
            "flex_flow": null,
            "grid_area": null,
            "grid_auto_columns": null,
            "grid_auto_flow": null,
            "grid_auto_rows": null,
            "grid_column": null,
            "grid_gap": null,
            "grid_row": null,
            "grid_template_areas": null,
            "grid_template_columns": null,
            "grid_template_rows": null,
            "height": null,
            "justify_content": null,
            "justify_items": null,
            "left": null,
            "margin": null,
            "max_height": null,
            "max_width": null,
            "min_height": null,
            "min_width": null,
            "object_fit": null,
            "object_position": null,
            "order": null,
            "overflow": null,
            "overflow_x": null,
            "overflow_y": null,
            "padding": null,
            "right": null,
            "top": null,
            "visibility": null,
            "width": null
          }
        },
        "d4a70b7fb4e74ae6aa8005e0bccb2ffe": {
          "model_module": "@jupyter-widgets/controls",
          "model_name": "DescriptionStyleModel",
          "model_module_version": "1.5.0",
          "state": {
            "_model_module": "@jupyter-widgets/controls",
            "_model_module_version": "1.5.0",
            "_model_name": "DescriptionStyleModel",
            "_view_count": null,
            "_view_module": "@jupyter-widgets/base",
            "_view_module_version": "1.2.0",
            "_view_name": "StyleView",
            "description_width": ""
          }
        },
        "67305ec443a3457e90e8a7e8549c299f": {
          "model_module": "@jupyter-widgets/base",
          "model_name": "LayoutModel",
          "model_module_version": "1.2.0",
          "state": {
            "_model_module": "@jupyter-widgets/base",
            "_model_module_version": "1.2.0",
            "_model_name": "LayoutModel",
            "_view_count": null,
            "_view_module": "@jupyter-widgets/base",
            "_view_module_version": "1.2.0",
            "_view_name": "LayoutView",
            "align_content": null,
            "align_items": null,
            "align_self": null,
            "border": null,
            "bottom": null,
            "display": null,
            "flex": null,
            "flex_flow": null,
            "grid_area": null,
            "grid_auto_columns": null,
            "grid_auto_flow": null,
            "grid_auto_rows": null,
            "grid_column": null,
            "grid_gap": null,
            "grid_row": null,
            "grid_template_areas": null,
            "grid_template_columns": null,
            "grid_template_rows": null,
            "height": null,
            "justify_content": null,
            "justify_items": null,
            "left": null,
            "margin": null,
            "max_height": null,
            "max_width": null,
            "min_height": null,
            "min_width": null,
            "object_fit": null,
            "object_position": null,
            "order": null,
            "overflow": null,
            "overflow_x": null,
            "overflow_y": null,
            "padding": null,
            "right": null,
            "top": null,
            "visibility": null,
            "width": null
          }
        },
        "12537dd5d26f4fe5b917f496e797dba3": {
          "model_module": "@jupyter-widgets/controls",
          "model_name": "ProgressStyleModel",
          "model_module_version": "1.5.0",
          "state": {
            "_model_module": "@jupyter-widgets/controls",
            "_model_module_version": "1.5.0",
            "_model_name": "ProgressStyleModel",
            "_view_count": null,
            "_view_module": "@jupyter-widgets/base",
            "_view_module_version": "1.2.0",
            "_view_name": "StyleView",
            "bar_color": null,
            "description_width": ""
          }
        },
        "83186d6e3d334e498ea1d3932176637c": {
          "model_module": "@jupyter-widgets/base",
          "model_name": "LayoutModel",
          "model_module_version": "1.2.0",
          "state": {
            "_model_module": "@jupyter-widgets/base",
            "_model_module_version": "1.2.0",
            "_model_name": "LayoutModel",
            "_view_count": null,
            "_view_module": "@jupyter-widgets/base",
            "_view_module_version": "1.2.0",
            "_view_name": "LayoutView",
            "align_content": null,
            "align_items": null,
            "align_self": null,
            "border": null,
            "bottom": null,
            "display": null,
            "flex": null,
            "flex_flow": null,
            "grid_area": null,
            "grid_auto_columns": null,
            "grid_auto_flow": null,
            "grid_auto_rows": null,
            "grid_column": null,
            "grid_gap": null,
            "grid_row": null,
            "grid_template_areas": null,
            "grid_template_columns": null,
            "grid_template_rows": null,
            "height": null,
            "justify_content": null,
            "justify_items": null,
            "left": null,
            "margin": null,
            "max_height": null,
            "max_width": null,
            "min_height": null,
            "min_width": null,
            "object_fit": null,
            "object_position": null,
            "order": null,
            "overflow": null,
            "overflow_x": null,
            "overflow_y": null,
            "padding": null,
            "right": null,
            "top": null,
            "visibility": null,
            "width": null
          }
        },
        "6c7dbeda82b14cd2ae1a0526d23dcbfb": {
          "model_module": "@jupyter-widgets/controls",
          "model_name": "DescriptionStyleModel",
          "model_module_version": "1.5.0",
          "state": {
            "_model_module": "@jupyter-widgets/controls",
            "_model_module_version": "1.5.0",
            "_model_name": "DescriptionStyleModel",
            "_view_count": null,
            "_view_module": "@jupyter-widgets/base",
            "_view_module_version": "1.2.0",
            "_view_name": "StyleView",
            "description_width": ""
          }
        },
        "9a46cec2fd264134b7d97ce65045720d": {
          "model_module": "@jupyter-widgets/controls",
          "model_name": "HBoxModel",
          "model_module_version": "1.5.0",
          "state": {
            "_dom_classes": [],
            "_model_module": "@jupyter-widgets/controls",
            "_model_module_version": "1.5.0",
            "_model_name": "HBoxModel",
            "_view_count": null,
            "_view_module": "@jupyter-widgets/controls",
            "_view_module_version": "1.5.0",
            "_view_name": "HBoxView",
            "box_style": "",
            "children": [
              "IPY_MODEL_a1068c65f0014a6396b286e28a25ef1f",
              "IPY_MODEL_f47edebd1e964da7a0cf37afada50a04",
              "IPY_MODEL_07f853d6c4864128be5784bae1cb9f0a"
            ],
            "layout": "IPY_MODEL_8833857b846342f189694c83a1ade687"
          }
        },
        "a1068c65f0014a6396b286e28a25ef1f": {
          "model_module": "@jupyter-widgets/controls",
          "model_name": "HTMLModel",
          "model_module_version": "1.5.0",
          "state": {
            "_dom_classes": [],
            "_model_module": "@jupyter-widgets/controls",
            "_model_module_version": "1.5.0",
            "_model_name": "HTMLModel",
            "_view_count": null,
            "_view_module": "@jupyter-widgets/controls",
            "_view_module_version": "1.5.0",
            "_view_name": "HTMLView",
            "description": "",
            "description_tooltip": null,
            "layout": "IPY_MODEL_994a905aad764891a767d7243db7101a",
            "placeholder": "​",
            "style": "IPY_MODEL_3684ed5197614e54b398e97b705a2458",
            "value": "pytorch_model.bin: 100%"
          }
        },
        "f47edebd1e964da7a0cf37afada50a04": {
          "model_module": "@jupyter-widgets/controls",
          "model_name": "FloatProgressModel",
          "model_module_version": "1.5.0",
          "state": {
            "_dom_classes": [],
            "_model_module": "@jupyter-widgets/controls",
            "_model_module_version": "1.5.0",
            "_model_name": "FloatProgressModel",
            "_view_count": null,
            "_view_module": "@jupyter-widgets/controls",
            "_view_module_version": "1.5.0",
            "_view_name": "ProgressView",
            "bar_style": "success",
            "description": "",
            "description_tooltip": null,
            "layout": "IPY_MODEL_df2da392106649559cbf044bb1a25eac",
            "max": 1262956405,
            "min": 0,
            "orientation": "horizontal",
            "style": "IPY_MODEL_90b31749490e40258074a22c53571c17",
            "value": 1262956405
          }
        },
        "07f853d6c4864128be5784bae1cb9f0a": {
          "model_module": "@jupyter-widgets/controls",
          "model_name": "HTMLModel",
          "model_module_version": "1.5.0",
          "state": {
            "_dom_classes": [],
            "_model_module": "@jupyter-widgets/controls",
            "_model_module_version": "1.5.0",
            "_model_name": "HTMLModel",
            "_view_count": null,
            "_view_module": "@jupyter-widgets/controls",
            "_view_module_version": "1.5.0",
            "_view_name": "HTMLView",
            "description": "",
            "description_tooltip": null,
            "layout": "IPY_MODEL_2a4d53229f24448988779e260f85c2f8",
            "placeholder": "​",
            "style": "IPY_MODEL_758b6a9b1cf34aaab313e4078dde0bc9",
            "value": " 1.26G/1.26G [00:13&lt;00:00, 46.3MB/s]"
          }
        },
        "8833857b846342f189694c83a1ade687": {
          "model_module": "@jupyter-widgets/base",
          "model_name": "LayoutModel",
          "model_module_version": "1.2.0",
          "state": {
            "_model_module": "@jupyter-widgets/base",
            "_model_module_version": "1.2.0",
            "_model_name": "LayoutModel",
            "_view_count": null,
            "_view_module": "@jupyter-widgets/base",
            "_view_module_version": "1.2.0",
            "_view_name": "LayoutView",
            "align_content": null,
            "align_items": null,
            "align_self": null,
            "border": null,
            "bottom": null,
            "display": null,
            "flex": null,
            "flex_flow": null,
            "grid_area": null,
            "grid_auto_columns": null,
            "grid_auto_flow": null,
            "grid_auto_rows": null,
            "grid_column": null,
            "grid_gap": null,
            "grid_row": null,
            "grid_template_areas": null,
            "grid_template_columns": null,
            "grid_template_rows": null,
            "height": null,
            "justify_content": null,
            "justify_items": null,
            "left": null,
            "margin": null,
            "max_height": null,
            "max_width": null,
            "min_height": null,
            "min_width": null,
            "object_fit": null,
            "object_position": null,
            "order": null,
            "overflow": null,
            "overflow_x": null,
            "overflow_y": null,
            "padding": null,
            "right": null,
            "top": null,
            "visibility": null,
            "width": null
          }
        },
        "994a905aad764891a767d7243db7101a": {
          "model_module": "@jupyter-widgets/base",
          "model_name": "LayoutModel",
          "model_module_version": "1.2.0",
          "state": {
            "_model_module": "@jupyter-widgets/base",
            "_model_module_version": "1.2.0",
            "_model_name": "LayoutModel",
            "_view_count": null,
            "_view_module": "@jupyter-widgets/base",
            "_view_module_version": "1.2.0",
            "_view_name": "LayoutView",
            "align_content": null,
            "align_items": null,
            "align_self": null,
            "border": null,
            "bottom": null,
            "display": null,
            "flex": null,
            "flex_flow": null,
            "grid_area": null,
            "grid_auto_columns": null,
            "grid_auto_flow": null,
            "grid_auto_rows": null,
            "grid_column": null,
            "grid_gap": null,
            "grid_row": null,
            "grid_template_areas": null,
            "grid_template_columns": null,
            "grid_template_rows": null,
            "height": null,
            "justify_content": null,
            "justify_items": null,
            "left": null,
            "margin": null,
            "max_height": null,
            "max_width": null,
            "min_height": null,
            "min_width": null,
            "object_fit": null,
            "object_position": null,
            "order": null,
            "overflow": null,
            "overflow_x": null,
            "overflow_y": null,
            "padding": null,
            "right": null,
            "top": null,
            "visibility": null,
            "width": null
          }
        },
        "3684ed5197614e54b398e97b705a2458": {
          "model_module": "@jupyter-widgets/controls",
          "model_name": "DescriptionStyleModel",
          "model_module_version": "1.5.0",
          "state": {
            "_model_module": "@jupyter-widgets/controls",
            "_model_module_version": "1.5.0",
            "_model_name": "DescriptionStyleModel",
            "_view_count": null,
            "_view_module": "@jupyter-widgets/base",
            "_view_module_version": "1.2.0",
            "_view_name": "StyleView",
            "description_width": ""
          }
        },
        "df2da392106649559cbf044bb1a25eac": {
          "model_module": "@jupyter-widgets/base",
          "model_name": "LayoutModel",
          "model_module_version": "1.2.0",
          "state": {
            "_model_module": "@jupyter-widgets/base",
            "_model_module_version": "1.2.0",
            "_model_name": "LayoutModel",
            "_view_count": null,
            "_view_module": "@jupyter-widgets/base",
            "_view_module_version": "1.2.0",
            "_view_name": "LayoutView",
            "align_content": null,
            "align_items": null,
            "align_self": null,
            "border": null,
            "bottom": null,
            "display": null,
            "flex": null,
            "flex_flow": null,
            "grid_area": null,
            "grid_auto_columns": null,
            "grid_auto_flow": null,
            "grid_auto_rows": null,
            "grid_column": null,
            "grid_gap": null,
            "grid_row": null,
            "grid_template_areas": null,
            "grid_template_columns": null,
            "grid_template_rows": null,
            "height": null,
            "justify_content": null,
            "justify_items": null,
            "left": null,
            "margin": null,
            "max_height": null,
            "max_width": null,
            "min_height": null,
            "min_width": null,
            "object_fit": null,
            "object_position": null,
            "order": null,
            "overflow": null,
            "overflow_x": null,
            "overflow_y": null,
            "padding": null,
            "right": null,
            "top": null,
            "visibility": null,
            "width": null
          }
        },
        "90b31749490e40258074a22c53571c17": {
          "model_module": "@jupyter-widgets/controls",
          "model_name": "ProgressStyleModel",
          "model_module_version": "1.5.0",
          "state": {
            "_model_module": "@jupyter-widgets/controls",
            "_model_module_version": "1.5.0",
            "_model_name": "ProgressStyleModel",
            "_view_count": null,
            "_view_module": "@jupyter-widgets/base",
            "_view_module_version": "1.2.0",
            "_view_name": "StyleView",
            "bar_color": null,
            "description_width": ""
          }
        },
        "2a4d53229f24448988779e260f85c2f8": {
          "model_module": "@jupyter-widgets/base",
          "model_name": "LayoutModel",
          "model_module_version": "1.2.0",
          "state": {
            "_model_module": "@jupyter-widgets/base",
            "_model_module_version": "1.2.0",
            "_model_name": "LayoutModel",
            "_view_count": null,
            "_view_module": "@jupyter-widgets/base",
            "_view_module_version": "1.2.0",
            "_view_name": "LayoutView",
            "align_content": null,
            "align_items": null,
            "align_self": null,
            "border": null,
            "bottom": null,
            "display": null,
            "flex": null,
            "flex_flow": null,
            "grid_area": null,
            "grid_auto_columns": null,
            "grid_auto_flow": null,
            "grid_auto_rows": null,
            "grid_column": null,
            "grid_gap": null,
            "grid_row": null,
            "grid_template_areas": null,
            "grid_template_columns": null,
            "grid_template_rows": null,
            "height": null,
            "justify_content": null,
            "justify_items": null,
            "left": null,
            "margin": null,
            "max_height": null,
            "max_width": null,
            "min_height": null,
            "min_width": null,
            "object_fit": null,
            "object_position": null,
            "order": null,
            "overflow": null,
            "overflow_x": null,
            "overflow_y": null,
            "padding": null,
            "right": null,
            "top": null,
            "visibility": null,
            "width": null
          }
        },
        "758b6a9b1cf34aaab313e4078dde0bc9": {
          "model_module": "@jupyter-widgets/controls",
          "model_name": "DescriptionStyleModel",
          "model_module_version": "1.5.0",
          "state": {
            "_model_module": "@jupyter-widgets/controls",
            "_model_module_version": "1.5.0",
            "_model_name": "DescriptionStyleModel",
            "_view_count": null,
            "_view_module": "@jupyter-widgets/base",
            "_view_module_version": "1.2.0",
            "_view_name": "StyleView",
            "description_width": ""
          }
        }
      }
    }
  },
  "cells": [
    {
      "cell_type": "markdown",
      "source": [
        "# Красивый заголовок\n",
        "<hr>\n",
        "\n",
        "\n",
        "Над проектом работали:\n",
        "Команда № 2 **C.D.C.**\n",
        "\n",
        "0. Кириленков Кирилл Владимирович\n",
        "\n",
        "0. Корзун Иван Анатольевич\n",
        "\n",
        "0. Хван Ок Хи\n",
        "\n",
        "0. Федеряев Клим Александрович\n",
        "\n",
        "0. Гайсина Лиана Ильдаровна\n",
        "\n",
        "\n",
        "\n",
        "\n",
        "<hr>\n"
      ],
      "metadata": {
        "id": "0vCgrp5F_HZ1"
      }
    },
    {
      "cell_type": "markdown",
      "source": [
        "\n",
        "Для более комфортной работы включите в блокноте GPU и запустите все клетки с начала:\n",
        "\n",
        "```\n",
        "Среда выполнения > Сменить среду выполнения > Аппаратный ускоритель > GPU > Сохранить\n",
        "---\n",
        "Runtime > Change runtime type > Hardware accelerator > GPU > Save\n",
        "```"
      ],
      "metadata": {
        "id": "-g7pYQlmMqd7"
      }
    },
    {
      "cell_type": "code",
      "execution_count": 2,
      "metadata": {
        "id": "uoeqMrFYmoSL",
        "colab": {
          "base_uri": "https://localhost:8080/"
        },
        "outputId": "e27095e5-708a-4008-c74b-476b94c9ff74"
      },
      "outputs": [
        {
          "output_type": "stream",
          "name": "stdout",
          "text": [
            "  Preparing metadata (setup.py) ... \u001b[?25l\u001b[?25hdone\n",
            "  Preparing metadata (setup.py) ... \u001b[?25l\u001b[?25hdone\n",
            "  Building wheel for wget (setup.py) ... \u001b[?25l\u001b[?25hdone\n",
            "  Building wheel for wave (setup.py) ... \u001b[?25l\u001b[?25hdone\n"
          ]
        }
      ],
      "source": [
        "# @title  Устанавливаем модуль aniemore и расширенный модуль из индекса пакетов Python (PyPI)\n",
        "%pip install -q rich wget wave\n",
        "# %pip install -q aniemore"
      ]
    },
    {
      "cell_type": "code",
      "source": [
        "# Импортируем библиотеки\n",
        "import wget\n",
        "import torch\n",
        "import matplotlib.pyplot as plt\n",
        "# import seaborn as sns\n",
        "# from aniemore.recognizers.voice import VoiceRecognizer\n",
        "# from aniemore.models import HuggingFaceModel\n",
        "import soundfile as sf   #   pip install pysoundfile\n",
        "from pathlib import Path\n",
        "\n",
        "from transformers import HubertForSequenceClassification, Wav2Vec2FeatureExtractor\n",
        "import torchaudio\n",
        "\n",
        "import wave\n",
        "import os\n",
        "import gc\n"
      ],
      "metadata": {
        "id": "VMNwe7MjtYpc"
      },
      "execution_count": 3,
      "outputs": []
    },
    {
      "cell_type": "code",
      "source": [
        "# @title Загрузите наш тестовый голосовой файл\n",
        "\n",
        "voice_url = \"https://github.com/aniemore/Aniemore/blob/master/tests/aniemore/recognizers/src/my_voice.ogg?raw=true\" # @param {type: \"string\"}\n",
        "voices_path: Path = Path('my_voice.ogg')\n",
        "\n",
        "wget.download(voice_url, str('my_voice.ogg'))"
      ],
      "metadata": {
        "colab": {
          "base_uri": "https://localhost:8080/",
          "height": 35
        },
        "id": "UtQHrw5iK0gh",
        "outputId": "a9e010bb-db48-4f68-bf60-73914361e5f3"
      },
      "execution_count": null,
      "outputs": [
        {
          "output_type": "execute_result",
          "data": {
            "text/plain": [
              "'my_voice.ogg'"
            ],
            "application/vnd.google.colaboratory.intrinsic+json": {
              "type": "string"
            }
          },
          "metadata": {},
          "execution_count": 6
        }
      ]
    },
    {
      "cell_type": "code",
      "source": [
        "# @title Или загрузите ваши тестовые файлы\n",
        "# @markdown ### Загружайте только аудио файлы в формате 'wav' или 'ogg'\n",
        "# @markdown ### не короче 30 секунд!\n",
        "\n",
        "from google.colab import files\n",
        "result = files.upload()\n",
        "file_name, value = list(result.items())[0]\n",
        "\n",
        "if '.ogg' in file_name:\n",
        "    data, samplerate = sf.read(file_name)\n",
        "    file_name = file_name[0:-4] + '.wav'\n",
        "    sf.write(file_name, data, samplerate)\n",
        "    print(file_name)\n"
      ],
      "metadata": {
        "id": "cHdPP_VvU1mh",
        "colab": {
          "base_uri": "https://localhost:8080/",
          "height": 92
        },
        "outputId": "0a67236c-c480-4e90-bc49-b62b8455ac3d"
      },
      "execution_count": 4,
      "outputs": [
        {
          "output_type": "display_data",
          "data": {
            "text/plain": [
              "<IPython.core.display.HTML object>"
            ],
            "text/html": [
              "\n",
              "     <input type=\"file\" id=\"files-b9b68211-db81-42db-9efc-934db3a0b4a2\" name=\"files[]\" multiple disabled\n",
              "        style=\"border:none\" />\n",
              "     <output id=\"result-b9b68211-db81-42db-9efc-934db3a0b4a2\">\n",
              "      Upload widget is only available when the cell has been executed in the\n",
              "      current browser session. Please rerun this cell to enable.\n",
              "      </output>\n",
              "      <script>// Copyright 2017 Google LLC\n",
              "//\n",
              "// Licensed under the Apache License, Version 2.0 (the \"License\");\n",
              "// you may not use this file except in compliance with the License.\n",
              "// You may obtain a copy of the License at\n",
              "//\n",
              "//      http://www.apache.org/licenses/LICENSE-2.0\n",
              "//\n",
              "// Unless required by applicable law or agreed to in writing, software\n",
              "// distributed under the License is distributed on an \"AS IS\" BASIS,\n",
              "// WITHOUT WARRANTIES OR CONDITIONS OF ANY KIND, either express or implied.\n",
              "// See the License for the specific language governing permissions and\n",
              "// limitations under the License.\n",
              "\n",
              "/**\n",
              " * @fileoverview Helpers for google.colab Python module.\n",
              " */\n",
              "(function(scope) {\n",
              "function span(text, styleAttributes = {}) {\n",
              "  const element = document.createElement('span');\n",
              "  element.textContent = text;\n",
              "  for (const key of Object.keys(styleAttributes)) {\n",
              "    element.style[key] = styleAttributes[key];\n",
              "  }\n",
              "  return element;\n",
              "}\n",
              "\n",
              "// Max number of bytes which will be uploaded at a time.\n",
              "const MAX_PAYLOAD_SIZE = 100 * 1024;\n",
              "\n",
              "function _uploadFiles(inputId, outputId) {\n",
              "  const steps = uploadFilesStep(inputId, outputId);\n",
              "  const outputElement = document.getElementById(outputId);\n",
              "  // Cache steps on the outputElement to make it available for the next call\n",
              "  // to uploadFilesContinue from Python.\n",
              "  outputElement.steps = steps;\n",
              "\n",
              "  return _uploadFilesContinue(outputId);\n",
              "}\n",
              "\n",
              "// This is roughly an async generator (not supported in the browser yet),\n",
              "// where there are multiple asynchronous steps and the Python side is going\n",
              "// to poll for completion of each step.\n",
              "// This uses a Promise to block the python side on completion of each step,\n",
              "// then passes the result of the previous step as the input to the next step.\n",
              "function _uploadFilesContinue(outputId) {\n",
              "  const outputElement = document.getElementById(outputId);\n",
              "  const steps = outputElement.steps;\n",
              "\n",
              "  const next = steps.next(outputElement.lastPromiseValue);\n",
              "  return Promise.resolve(next.value.promise).then((value) => {\n",
              "    // Cache the last promise value to make it available to the next\n",
              "    // step of the generator.\n",
              "    outputElement.lastPromiseValue = value;\n",
              "    return next.value.response;\n",
              "  });\n",
              "}\n",
              "\n",
              "/**\n",
              " * Generator function which is called between each async step of the upload\n",
              " * process.\n",
              " * @param {string} inputId Element ID of the input file picker element.\n",
              " * @param {string} outputId Element ID of the output display.\n",
              " * @return {!Iterable<!Object>} Iterable of next steps.\n",
              " */\n",
              "function* uploadFilesStep(inputId, outputId) {\n",
              "  const inputElement = document.getElementById(inputId);\n",
              "  inputElement.disabled = false;\n",
              "\n",
              "  const outputElement = document.getElementById(outputId);\n",
              "  outputElement.innerHTML = '';\n",
              "\n",
              "  const pickedPromise = new Promise((resolve) => {\n",
              "    inputElement.addEventListener('change', (e) => {\n",
              "      resolve(e.target.files);\n",
              "    });\n",
              "  });\n",
              "\n",
              "  const cancel = document.createElement('button');\n",
              "  inputElement.parentElement.appendChild(cancel);\n",
              "  cancel.textContent = 'Cancel upload';\n",
              "  const cancelPromise = new Promise((resolve) => {\n",
              "    cancel.onclick = () => {\n",
              "      resolve(null);\n",
              "    };\n",
              "  });\n",
              "\n",
              "  // Wait for the user to pick the files.\n",
              "  const files = yield {\n",
              "    promise: Promise.race([pickedPromise, cancelPromise]),\n",
              "    response: {\n",
              "      action: 'starting',\n",
              "    }\n",
              "  };\n",
              "\n",
              "  cancel.remove();\n",
              "\n",
              "  // Disable the input element since further picks are not allowed.\n",
              "  inputElement.disabled = true;\n",
              "\n",
              "  if (!files) {\n",
              "    return {\n",
              "      response: {\n",
              "        action: 'complete',\n",
              "      }\n",
              "    };\n",
              "  }\n",
              "\n",
              "  for (const file of files) {\n",
              "    const li = document.createElement('li');\n",
              "    li.append(span(file.name, {fontWeight: 'bold'}));\n",
              "    li.append(span(\n",
              "        `(${file.type || 'n/a'}) - ${file.size} bytes, ` +\n",
              "        `last modified: ${\n",
              "            file.lastModifiedDate ? file.lastModifiedDate.toLocaleDateString() :\n",
              "                                    'n/a'} - `));\n",
              "    const percent = span('0% done');\n",
              "    li.appendChild(percent);\n",
              "\n",
              "    outputElement.appendChild(li);\n",
              "\n",
              "    const fileDataPromise = new Promise((resolve) => {\n",
              "      const reader = new FileReader();\n",
              "      reader.onload = (e) => {\n",
              "        resolve(e.target.result);\n",
              "      };\n",
              "      reader.readAsArrayBuffer(file);\n",
              "    });\n",
              "    // Wait for the data to be ready.\n",
              "    let fileData = yield {\n",
              "      promise: fileDataPromise,\n",
              "      response: {\n",
              "        action: 'continue',\n",
              "      }\n",
              "    };\n",
              "\n",
              "    // Use a chunked sending to avoid message size limits. See b/62115660.\n",
              "    let position = 0;\n",
              "    do {\n",
              "      const length = Math.min(fileData.byteLength - position, MAX_PAYLOAD_SIZE);\n",
              "      const chunk = new Uint8Array(fileData, position, length);\n",
              "      position += length;\n",
              "\n",
              "      const base64 = btoa(String.fromCharCode.apply(null, chunk));\n",
              "      yield {\n",
              "        response: {\n",
              "          action: 'append',\n",
              "          file: file.name,\n",
              "          data: base64,\n",
              "        },\n",
              "      };\n",
              "\n",
              "      let percentDone = fileData.byteLength === 0 ?\n",
              "          100 :\n",
              "          Math.round((position / fileData.byteLength) * 100);\n",
              "      percent.textContent = `${percentDone}% done`;\n",
              "\n",
              "    } while (position < fileData.byteLength);\n",
              "  }\n",
              "\n",
              "  // All done.\n",
              "  yield {\n",
              "    response: {\n",
              "      action: 'complete',\n",
              "    }\n",
              "  };\n",
              "}\n",
              "\n",
              "scope.google = scope.google || {};\n",
              "scope.google.colab = scope.google.colab || {};\n",
              "scope.google.colab._files = {\n",
              "  _uploadFiles,\n",
              "  _uploadFilesContinue,\n",
              "};\n",
              "})(self);\n",
              "</script> "
            ]
          },
          "metadata": {}
        },
        {
          "output_type": "stream",
          "name": "stdout",
          "text": [
            "Saving test.ogg to test.ogg\n",
            "test.wav\n"
          ]
        }
      ]
    },
    {
      "cell_type": "code",
      "source": [
        "import requests\n",
        "\n",
        "voice_url = \"https://github.com/aniemore/Aniemore/blob/master/tests/aniemore/recognizers/src/my_voice.ogg?raw=true\"  # URL-адрес файла для загрузки\n",
        "voices_path = Path('my_voice.ogg')\n",
        "\n",
        "response = requests.get(voice_url)  # Выполняем GET-запрос к URL\n",
        "\n",
        "if response.status_code == 200:  # Проверяем успешность запроса\n",
        "    with open(voices_path, 'wb') as file:\n",
        "        file.write(response.content)\n",
        "\n",
        "        print(\"Файл успешно загружен.\")\n",
        "else:\n",
        "    print(\"Не удалось загрузить файл.\")"
      ],
      "metadata": {
        "id": "jKsLJN5UAudd"
      },
      "execution_count": null,
      "outputs": []
    },
    {
      "cell_type": "code",
      "source": [
        "# разрезание файла на N частей.\n",
        "\n",
        "N = 5 # Number of segments\n",
        "\n",
        "def segmentator(N_segments: int, f_name: str):\n",
        "    # file to extract the snippet from\n",
        "    # path_to_output_file = '/'.join(path_to_file.split('/')[0:-1]) + '/'\n",
        "\n",
        "    with wave.open(f_name, \"rb\") as infile:\n",
        "            # get file data\n",
        "        nchannels = infile.getnchannels()\n",
        "        sampwidth = infile.getsampwidth()\n",
        "        framerate = infile.getframerate()\n",
        "        frames = infile.getnframes()\n",
        "        duration = frames / float(framerate)\n",
        "        print(duration)\n",
        "        segment = duration / N\n",
        "        segments = [i * segment for i in range(N + 1)]\n",
        "\n",
        "        for i in range(len(segments) - 1):\n",
        "\n",
        "            # set position in wave to start of segment\n",
        "            infile.setpos(int(segments[i] * framerate))\n",
        "            # extract data\n",
        "            data = infile.readframes(int((segments[i + 1] - segments[i]) * framerate))\n",
        "\n",
        "            # write the extracted data to a new file\n",
        "            with wave.open(f'{i}_output.wav', 'w') as outfile:\n",
        "                outfile.setnchannels(nchannels)\n",
        "                outfile.setsampwidth(sampwidth)\n",
        "                outfile.setframerate(framerate)\n",
        "                outfile.setnframes(int(len(data) / sampwidth))\n",
        "                outfile.writeframes(data)\n",
        "                print(str(outfile))\n",
        "\n",
        "segmentator(N, file_name)\n",
        "\n"
      ],
      "metadata": {
        "id": "zxkxuMDX2bJU",
        "colab": {
          "base_uri": "https://localhost:8080/"
        },
        "outputId": "f31fd5c8-3bab-40e5-c9e0-02f850c5c2a1"
      },
      "execution_count": 5,
      "outputs": [
        {
          "output_type": "stream",
          "name": "stdout",
          "text": [
            "16.6335\n",
            "<wave.Wave_write object at 0x78200103f7c0>\n",
            "<wave.Wave_write object at 0x78200103e020>\n"
          ]
        }
      ]
    },
    {
      "cell_type": "code",
      "source": [
        "# Создаем список путей к голосовым файлам\n",
        "#@markdown Убедитесь, что эта ячейка выводит список поддерживаемых фтоматов (ffmpeg, )\n",
        "\n",
        "\n",
        "voice_files = Path('.').glob('*?.*?')  # will return Path type\n",
        "voice_files = list(map(str, voice_files))  # converting Path to str\n",
        "print(voice_files)"
      ],
      "metadata": {
        "id": "IuH_e7ZoPWLU",
        "colab": {
          "base_uri": "https://localhost:8080/"
        },
        "outputId": "5f3f03c5-f3e4-44f7-c19f-8c76cdaffb1a"
      },
      "execution_count": 7,
      "outputs": [
        {
          "output_type": "stream",
          "name": "stdout",
          "text": [
            "['test.ogg', '0_output.wav', 'test.wav', '1_output.wav']\n"
          ]
        }
      ]
    },
    {
      "cell_type": "code",
      "source": [
        "# @title\n",
        "model = HuggingFaceModel.Voice.Wav2Vec2\n",
        "device = 'cuda' if torch.cuda.is_available() else 'cpu'\n",
        "vr = VoiceRecognizer(model, device)\n",
        "# Output of model\n",
        "output_dict = dict()\n",
        "\n",
        "for i in range(N - 1):\n",
        "    name = f'{i}_output.wav'\n",
        "    result = vr.recognize(name)\n",
        "    output_dict[name] = result\n",
        "    gc.collect()"
      ],
      "metadata": {
        "id": "eT86LJeVOEPI",
        "colab": {
          "base_uri": "https://localhost:8080/",
          "height": 250
        },
        "outputId": "0191bf5c-0440-49b7-9ba0-0dda1a7e9fec"
      },
      "execution_count": 6,
      "outputs": [
        {
          "output_type": "error",
          "ename": "NameError",
          "evalue": "ignored",
          "traceback": [
            "\u001b[0;31m---------------------------------------------------------------------------\u001b[0m",
            "\u001b[0;31mNameError\u001b[0m                                 Traceback (most recent call last)",
            "\u001b[0;32m<ipython-input-6-9b6651b76065>\u001b[0m in \u001b[0;36m<cell line: 2>\u001b[0;34m()\u001b[0m\n\u001b[1;32m      1\u001b[0m \u001b[0;31m# @title\u001b[0m\u001b[0;34m\u001b[0m\u001b[0;34m\u001b[0m\u001b[0m\n\u001b[0;32m----> 2\u001b[0;31m \u001b[0mmodel\u001b[0m \u001b[0;34m=\u001b[0m \u001b[0mHuggingFaceModel\u001b[0m\u001b[0;34m.\u001b[0m\u001b[0mVoice\u001b[0m\u001b[0;34m.\u001b[0m\u001b[0mWav2Vec2\u001b[0m\u001b[0;34m\u001b[0m\u001b[0;34m\u001b[0m\u001b[0m\n\u001b[0m\u001b[1;32m      3\u001b[0m \u001b[0mdevice\u001b[0m \u001b[0;34m=\u001b[0m \u001b[0;34m'cuda'\u001b[0m \u001b[0;32mif\u001b[0m \u001b[0mtorch\u001b[0m\u001b[0;34m.\u001b[0m\u001b[0mcuda\u001b[0m\u001b[0;34m.\u001b[0m\u001b[0mis_available\u001b[0m\u001b[0;34m(\u001b[0m\u001b[0;34m)\u001b[0m \u001b[0;32melse\u001b[0m \u001b[0;34m'cpu'\u001b[0m\u001b[0;34m\u001b[0m\u001b[0;34m\u001b[0m\u001b[0m\n\u001b[1;32m      4\u001b[0m \u001b[0mvr\u001b[0m \u001b[0;34m=\u001b[0m \u001b[0mVoiceRecognizer\u001b[0m\u001b[0;34m(\u001b[0m\u001b[0mmodel\u001b[0m\u001b[0;34m,\u001b[0m \u001b[0mdevice\u001b[0m\u001b[0;34m)\u001b[0m\u001b[0;34m\u001b[0m\u001b[0;34m\u001b[0m\u001b[0m\n\u001b[1;32m      5\u001b[0m \u001b[0;31m# Output of model\u001b[0m\u001b[0;34m\u001b[0m\u001b[0;34m\u001b[0m\u001b[0m\n",
            "\u001b[0;31mNameError\u001b[0m: name 'HuggingFaceModel' is not defined"
          ]
        }
      ]
    },
    {
      "cell_type": "code",
      "source": [
        "# PLAN B\n",
        "\n",
        "feature_extractor = Wav2Vec2FeatureExtractor.from_pretrained(\"facebook/hubert-large-ls960-ft\")\n",
        "model = HubertForSequenceClassification.from_pretrained(\"xbgoose/hubert-speech-emotion-recognition-russian-dusha-finetuned\")\n",
        "num2emotion = {0: 'neutral', 1: 'angry', 2: 'positive', 3: 'sad', 4: 'other'}"
      ],
      "metadata": {
        "colab": {
          "base_uri": "https://localhost:8080/",
          "height": 222,
          "referenced_widgets": [
            "8b7dca55198049589aea2fba4b5e4367",
            "1f1a88cf9ab04f979efd4ea21bae1954",
            "8c704bb61ec148bfb4fd351566f7c764",
            "cd2f31674c8d49dc8c563b7539cd9574",
            "2ee606a6b6da4c6b9c0427c39a4cf96f",
            "90405b5f2bb4485ebaa7968c4b279934",
            "ea5b20019184410c8bb787d0fb47909a",
            "44e0dc9a8e5a440399d7c140485844e3",
            "9f747345e7054f86972e5d47292436b3",
            "b5aa8410c7f6417f9bb61aa873abdacb",
            "8a41d95c2b264a4387163c31656b86d9",
            "825802b9162c433b80c7c7cebaf9333c",
            "5dbb4ad5ffcb49a3a271f14651a2db65",
            "cb10687df81b4ad2a916467800b21b9c",
            "b5b2ca46585f4597aba8d98adaf3b6fc",
            "e7cc76d6c66f40e4a5ba61497bfbd81a",
            "ad0b14e1e23a43afaec66553aa59254d",
            "d4a70b7fb4e74ae6aa8005e0bccb2ffe",
            "67305ec443a3457e90e8a7e8549c299f",
            "12537dd5d26f4fe5b917f496e797dba3",
            "83186d6e3d334e498ea1d3932176637c",
            "6c7dbeda82b14cd2ae1a0526d23dcbfb",
            "9a46cec2fd264134b7d97ce65045720d",
            "a1068c65f0014a6396b286e28a25ef1f",
            "f47edebd1e964da7a0cf37afada50a04",
            "07f853d6c4864128be5784bae1cb9f0a",
            "8833857b846342f189694c83a1ade687",
            "994a905aad764891a767d7243db7101a",
            "3684ed5197614e54b398e97b705a2458",
            "df2da392106649559cbf044bb1a25eac",
            "90b31749490e40258074a22c53571c17",
            "2a4d53229f24448988779e260f85c2f8",
            "758b6a9b1cf34aaab313e4078dde0bc9"
          ]
        },
        "id": "JXF8UnwXizhg",
        "outputId": "d3aa0630-559b-4e7f-9f00-921df12513a3"
      },
      "execution_count": 8,
      "outputs": [
        {
          "output_type": "display_data",
          "data": {
            "text/plain": [
              "preprocessor_config.json:   0%|          | 0.00/212 [00:00<?, ?B/s]"
            ],
            "application/vnd.jupyter.widget-view+json": {
              "version_major": 2,
              "version_minor": 0,
              "model_id": "8b7dca55198049589aea2fba4b5e4367"
            }
          },
          "metadata": {}
        },
        {
          "output_type": "display_data",
          "data": {
            "text/plain": [
              "config.json:   0%|          | 0.00/1.80k [00:00<?, ?B/s]"
            ],
            "application/vnd.jupyter.widget-view+json": {
              "version_major": 2,
              "version_minor": 0,
              "model_id": "825802b9162c433b80c7c7cebaf9333c"
            }
          },
          "metadata": {}
        },
        {
          "output_type": "display_data",
          "data": {
            "text/plain": [
              "pytorch_model.bin:   0%|          | 0.00/1.26G [00:00<?, ?B/s]"
            ],
            "application/vnd.jupyter.widget-view+json": {
              "version_major": 2,
              "version_minor": 0,
              "model_id": "9a46cec2fd264134b7d97ce65045720d"
            }
          },
          "metadata": {}
        },
        {
          "output_type": "stream",
          "name": "stderr",
          "text": [
            "Some weights of the model checkpoint at xbgoose/hubert-speech-emotion-recognition-russian-dusha-finetuned were not used when initializing HubertForSequenceClassification: ['hubert.encoder.pos_conv_embed.conv.weight_g', 'hubert.encoder.pos_conv_embed.conv.weight_v']\n",
            "- This IS expected if you are initializing HubertForSequenceClassification from the checkpoint of a model trained on another task or with another architecture (e.g. initializing a BertForSequenceClassification model from a BertForPreTraining model).\n",
            "- This IS NOT expected if you are initializing HubertForSequenceClassification from the checkpoint of a model that you expect to be exactly identical (initializing a BertForSequenceClassification model from a BertForSequenceClassification model).\n",
            "Some weights of HubertForSequenceClassification were not initialized from the model checkpoint at xbgoose/hubert-speech-emotion-recognition-russian-dusha-finetuned and are newly initialized: ['hubert.encoder.pos_conv_embed.conv.parametrizations.weight.original0', 'hubert.encoder.pos_conv_embed.conv.parametrizations.weight.original1']\n",
            "You should probably TRAIN this model on a down-stream task to be able to use it for predictions and inference.\n"
          ]
        }
      ]
    },
    {
      "cell_type": "code",
      "source": [
        "filepath = \"1_output.wav\"\n",
        "\n",
        "waveform, sample_rate = torchaudio.load(filepath, normalize=True)\n",
        "transform = torchaudio.transforms.Resample(sample_rate, 16000)\n",
        "waveform = transform(waveform)\n",
        "\n",
        "inputs = feature_extractor(\n",
        "        waveform,\n",
        "        sampling_rate=feature_extractor.sampling_rate,\n",
        "        return_tensors=\"pt\",\n",
        "        padding=True,\n",
        "        max_length=16000 * 10,\n",
        "        truncation=True\n",
        "    )\n",
        "\n",
        "\n",
        "\n",
        "logits = model(inputs['input_values'][0]).logits\n",
        "del(inputs)\n",
        "del(transform)\n",
        "print(logits)\n",
        "predictions = torch.argmax(logits, dim=1)\n",
        "predicted_emotion = num2emotion[predictions.numpy()[0]]\n",
        "print(predicted_emotion)"
      ],
      "metadata": {
        "colab": {
          "base_uri": "https://localhost:8080/"
        },
        "id": "sJFQdau7j2Vw",
        "outputId": "29b83bc9-1be0-42a9-9674-74cc3ffa97ff"
      },
      "execution_count": 10,
      "outputs": [
        {
          "output_type": "stream",
          "name": "stdout",
          "text": [
            "tensor([[ 1.4948,  3.2782,  1.3996, -2.9511, -3.6657]],\n",
            "       grad_fn=<AddmmBackward0>)\n",
            "angry\n"
          ]
        }
      ]
    },
    {
      "cell_type": "code",
      "source": [
        "print(os.listdir())\n",
        "#for k, v in output_dict.items():\n",
        "    #print(f'{k}: {v}')\n",
        "\n",
        "# print(output_dict)"
      ],
      "metadata": {
        "colab": {
          "base_uri": "https://localhost:8080/"
        },
        "id": "XhCSsZleu8eZ",
        "outputId": "71e3f462-7f35-461f-ee20-a991b9026eab"
      },
      "execution_count": 11,
      "outputs": [
        {
          "output_type": "stream",
          "name": "stdout",
          "text": [
            "['.config', '4_output.wav', '3_output.wav', '0_output.wav', '2_output.wav', 'neutral.wav', '1_output.wav', 'sample_data']\n"
          ]
        }
      ]
    },
    {
      "cell_type": "markdown",
      "source": [
        "# Обработка результатов и визуализация"
      ],
      "metadata": {
        "id": "vqHr81GLx3L_"
      }
    },
    {
      "cell_type": "code",
      "source": [
        "result = {   # Удалить позже\n",
        "    'anger': 0.2,\n",
        "    'disgust': 0.8,\n",
        "    'enthusiasm': 0.2,\n",
        "    'fear': 0.1,\n",
        "    'happiness': 0.1,\n",
        "    'neutral': 0.1,\n",
        "    'sadness': 0.1\n",
        "}"
      ],
      "metadata": {
        "id": "SYWoie_pfyTF"
      },
      "execution_count": null,
      "outputs": []
    },
    {
      "cell_type": "code",
      "source": [
        "# Получаем эмоции и вероятности из словаря результатов\n",
        "emotions = list(result.keys())\n",
        "probabilities = list(result.values())\n",
        "\n",
        "\n",
        "# Определяем пороговое значение для отсечения\n",
        "def filter_emotions(emotions, probabilities, threshold=0.01):\n",
        "    filtered_emotions = []\n",
        "    filtered_probabilities = []\n",
        "    for emotion, probability in zip(emotions, probabilities):\n",
        "        if probability >= threshold:\n",
        "            filtered_emotions.append(emotion)\n",
        "            filtered_probabilities.append(probability)\n",
        "    return filtered_emotions, filtered_probabilities\n",
        "\n",
        "\n",
        "filtered_emotions, filtered_probabilities = filter_emotions(emotions, probabilities)\n",
        "\n",
        "# Определяем цветовую палитру\n",
        "color_mapping = {\n",
        "    'anger': '#FF0000',\n",
        "    'disgust': '#00FF00',\n",
        "    'enthusiasm': '#FF7F00',\n",
        "    'fear': '#8B008B',\n",
        "    'happiness': '#FFFF00',\n",
        "    'neutral': '#00FFFF',\n",
        "    'sadness': '#0000FF'\n",
        "}\n",
        "colors = [color_mapping[emotion] for emotion in filtered_emotions]\n",
        "\n",
        "\n",
        "# Настройки цвета текста\n",
        "plt.rcParams['text.color'] = '0.9'\n",
        "plt.rcParams['axes.labelcolor'] = '0.9'\n",
        "plt.rcParams['xtick.color'] = '0.9'\n",
        "plt.rcParams['ytick.color'] = '0.9'\n",
        "\n",
        "# Настройки цвета фона\n",
        "plt.rcParams['figure.facecolor'] = '#212946'\n",
        "plt.rcParams['axes.facecolor'] = '#212946'\n",
        "plt.rcParams['savefig.facecolor'] = '#212946'\n",
        "\n",
        "# Настройки цвета сетки\n",
        "plt.rcParams['grid.color'] = '#2A3459'\n",
        "\n",
        "# Построим круговую диаграмму\n",
        "plt.figure(figsize=(8, 8))\n",
        "plt.pie(filtered_probabilities, labels=filtered_emotions, colors=colors, autopct='%1.1f%%')\n",
        "plt.title('Вероятность эмоции')\n",
        "\n",
        "\n",
        "# Добавляем заголовок\n",
        "plt.title('Вероятность эмоции')\n",
        "plt.show()\n"
      ],
      "metadata": {
        "colab": {
          "base_uri": "https://localhost:8080/",
          "height": 675
        },
        "id": "uCltXZPS4lb_",
        "outputId": "b30ca380-f84d-4f93-8f65-4fc1d6888cce"
      },
      "execution_count": null,
      "outputs": [
        {
          "output_type": "display_data",
          "data": {
            "text/plain": [
              "<Figure size 800x800 with 1 Axes>"
            ],
            "image/png": "[encoded data removed]"
          },
          "metadata": {}
        }
      ]
    },
    {
      "cell_type": "code",
      "source": [
        "# Получаем эмоции и вероятности из словаря результатов   # По сути это второй вариант отображения круговой диаграммы\n",
        "\n",
        "emotions = list(result.keys())\n",
        "probabilities = list(result.values())\n",
        "\n",
        "# Определяем пороговое значение для отсечения\n",
        "def filter_emotions(emotions, probabilities, threshold=0.01):\n",
        "\n",
        "    filtered_emotions = []\n",
        "    filtered_probabilities = []\n",
        "    for emotion, probability in zip(emotions, probabilities):\n",
        "        if probability >= threshold:\n",
        "            filtered_emotions.append(emotion)\n",
        "            filtered_probabilities.append(probability)\n",
        "    return filtered_emotions, filtered_probabilities\n",
        "\n",
        "filtered_emotions, filtered_probabilities = filter_emotions(emotions, probabilities)\n",
        "\n",
        "\n",
        "# Lighten borders\n",
        "plt.gca().spines[\"top\"].set_alpha(0)\n",
        "plt.gca().spines[\"bottom\"].set_alpha(.3)\n",
        "plt.gca().spines[\"right\"].set_alpha(0)\n",
        "plt.gca().spines[\"left\"].set_alpha(.3)\n",
        "\n",
        "# Настройки цвета текста\n",
        "plt.rcParams['text.color'] = '0.9'\n",
        "plt.rcParams['axes.labelcolor'] = '0.9'\n",
        "plt.rcParams['xtick.color'] = '0.9'\n",
        "plt.rcParams['ytick.color'] = '0.9'\n",
        "\n",
        "# Настройки цвета фона\n",
        "plt.rcParams['figure.facecolor'] = '#212946'\n",
        "plt.rcParams['axes.facecolor'] = '#212946'\n",
        "plt.rcParams['savefig.facecolor'] = '#212946'\n",
        "\n",
        "# Настройки цвета сетки\n",
        "plt.rcParams['grid.color'] = '#2A3459'\n",
        "\n",
        "# Определяем цветовую палитру\n",
        "color_mapping = {\n",
        "    'anger': '#FF0000',\n",
        "    'disgust': '#00FF00',\n",
        "    'enthusiasm': '#FF7F00',\n",
        "    'fear': '#8B008B',\n",
        "    'happiness': '#FFFF00',\n",
        "    'neutral': '#00FFFF',\n",
        "    'sadness': '#0000FF'\n",
        "}\n",
        "import numpy as np\n",
        "colors = [color_mapping[emotion] for emotion in filtered_emotions]\n",
        "\n",
        "\n",
        "\n",
        "# Построение горизонтальной столбчатой диаграммы с градиентным эффектом\n",
        "plt.barh(filtered_emotions, filtered_probabilities, color=colors,  )\n",
        "\n",
        "\n",
        "# Установка заголовка графика\n",
        "plt.title('Вероятность эмоции')\n",
        "\n",
        "\n",
        "\n",
        "# Отображение графика\n",
        "plt.show()"
      ],
      "metadata": {
        "colab": {
          "base_uri": "https://localhost:8080/",
          "height": 452
        },
        "id": "Og9setmoHmgg",
        "outputId": "8779fe09-d066-4d07-d2d9-5b10f6b6f4f5"
      },
      "execution_count": null,
      "outputs": [
        {
          "output_type": "display_data",
          "data": {
            "text/plain": [
              "<Figure size 640x480 with 1 Axes>"
            ],
            "image/png": "[encoded data removed]"
          },
          "metadata": {}
        }
      ]
    },
    {
      "cell_type": "code",
      "source": [
        "result = {\n",
        "    'my_voice.ogg': {\n",
        "        'anger': 0.00022966109099797904,\n",
        "        'disgust': 0.7071554064750671,\n",
        "        'enthusiasm': 0.061652034521102905,\n",
        "        'fear': 9.3700728029944e-05,\n",
        "        'happiness': 0.026993600651622e-05,\n",
        "        'neutral': 0.22958992421627045,\n",
        "        'sadness': 0.0011990244966000319\n",
        "    },\n",
        "    'my_voice (1).ogg': {\n",
        "        'anger': 0.022966109099797904,\n",
        "        'disgust': 0.071554064750671,\n",
        "        'enthusiasm': 0.061652034521102905,\n",
        "        'fear': 9.3700728029944e-05,\n",
        "        'happiness': 9.026993600651622e-05,\n",
        "        'neutral': 0.22958992421627045,\n",
        "        'sadness': 0.0011990244966000319\n",
        "    },\n",
        "\n",
        "    'my_voice (2).ogg': {\n",
        "        'anger': 0.722966109099797904,\n",
        "        'disgust': 0.071554064750671,\n",
        "        'enthusiasm': 0.961652034521102905,\n",
        "        'fear': 9.3700728029944e-05,\n",
        "        'happiness': 9.026993600651622e-05,\n",
        "        'neutral': 0.22958992421627045,\n",
        "        'sadness': 0.0011990244966000319\n",
        "    }\n",
        "}"
      ],
      "metadata": {
        "id": "8Ba_aPoPMmeM"
      },
      "execution_count": null,
      "outputs": []
    },
    {
      "cell_type": "code",
      "source": [
        "# Для каждой записи отдельно\n",
        "for key, value in result.items():\n",
        "    # Получаем эмоции и вероятности из словаря результатов\n",
        "    emotions, probabilities = zip(*value.items())\n",
        "\n",
        "\n",
        "    # Сортируем эмоции по убыванию вероятностей\n",
        "    sorted_emotions = [emotion for _, emotion in sorted(zip(probabilities, emotions), reverse=True)]\n",
        "    sorted_probabilities = sorted(probabilities, reverse=True)\n",
        "\n",
        "    # Выбираем три наибольших значения эмоций\n",
        "    top_emotions = sorted_emotions[:3]\n",
        "    top_probabilities = sorted_probabilities[:3]\n",
        "\n",
        "\n",
        "    colors = [color_mapping[emotion] for emotion in top_emotions]\n",
        "    # Lighten borders\n",
        "    plt.gca().spines[\"top\"].set_alpha(0)\n",
        "    plt.gca().spines[\"bottom\"].set_alpha(.3)\n",
        "    plt.gca().spines[\"right\"].set_alpha(0)\n",
        "    plt.gca().spines[\"left\"].set_alpha(.3)\n",
        "\n",
        "    # Настройки цвета текста\n",
        "    plt.rcParams['text.color'] = '0.9'\n",
        "    plt.rcParams['axes.labelcolor'] = '0.9'\n",
        "    plt.rcParams['xtick.color'] = '0.9'\n",
        "    plt.rcParams['ytick.color'] = '0.9'\n",
        "\n",
        "    # Настройки цвета фона\n",
        "    plt.rcParams['figure.facecolor'] = '#212946'\n",
        "    plt.rcParams['axes.facecolor'] = '#212946'\n",
        "    plt.rcParams['savefig.facecolor'] = '#212946'\n",
        "\n",
        "    # Настройки цвета сетки\n",
        "    plt.rcParams['grid.color'] = '#2A3459'\n",
        "\n",
        "    # Построим гистограмму\n",
        "\n",
        "    plt.bar(range(len(top_emotions)), top_probabilities, color=colors)\n",
        "    plt.title(f'Топ 3 эмоции - {key}')\n",
        "    plt.xticks(range(len(top_emotions)), top_emotions)\n",
        "    plt.show()\n",
        "    print()"
      ],
      "metadata": {
        "id": "_im2eh4pGM3K",
        "colab": {
          "base_uri": "https://localhost:8080/",
          "height": 1000
        },
        "outputId": "3148c651-30e4-4fb1-e8de-256f0634a239"
      },
      "execution_count": null,
      "outputs": [
        {
          "output_type": "display_data",
          "data": {
            "text/plain": [
              "<Figure size 640x480 with 1 Axes>"
            ],
            "image/png": "[encoded data removed]"
          },
          "metadata": {}
        },
        {
          "output_type": "stream",
          "name": "stdout",
          "text": [
            "\n"
          ]
        },
        {
          "output_type": "display_data",
          "data": {
            "text/plain": [
              "<Figure size 640x480 with 1 Axes>"
            ],
            "image/png": "[encoded data removed]"
          },
          "metadata": {}
        },
        {
          "output_type": "stream",
          "name": "stdout",
          "text": [
            "\n"
          ]
        },
        {
          "output_type": "display_data",
          "data": {
            "text/plain": [
              "<Figure size 640x480 with 1 Axes>"
            ],
            "image/png": "[encoded data removed]"
          },
          "metadata": {}
        },
        {
          "output_type": "stream",
          "name": "stdout",
          "text": [
            "\n"
          ]
        }
      ]
    },
    {
      "cell_type": "code",
      "source": [
        "# Создаем словарь для подсчета эмоций\n",
        "emotion_counts = {'positive': 0, 'negative': 0, 'neutral': 0}\n",
        "\n",
        "# Подсчитываем количество каждой эмоции\n",
        "for res in result.values():\n",
        "    for emotion, value in res.items():\n",
        "        if emotion in ['happiness', 'enthusiasm']:\n",
        "            emotion_counts['positive'] += value\n",
        "        elif emotion in ['anger', 'disgust', 'fear', 'sadness']:\n",
        "            emotion_counts['negative'] += value\n",
        "        elif emotion == 'neutral':\n",
        "            emotion_counts['neutral'] += value\n",
        "\n",
        "\n",
        "emotions = list(emotion_counts.keys())\n",
        "counts = list(emotion_counts.values())\n",
        "# Визуализация результатов в виде графика\n",
        "\n",
        "# Lighten borders\n",
        "plt.gca().spines[\"top\"].set_alpha(0)\n",
        "plt.gca().spines[\"bottom\"].set_alpha(.3)\n",
        "plt.gca().spines[\"right\"].set_alpha(0)\n",
        "plt.gca().spines[\"left\"].set_alpha(.3)\n",
        "\n",
        "# Настройки цвета текста\n",
        "plt.rcParams['text.color'] = '0.9'\n",
        "plt.rcParams['axes.labelcolor'] = '0.9'\n",
        "plt.rcParams['xtick.color'] = '0.9'\n",
        "plt.rcParams['ytick.color'] = '0.9'\n",
        "\n",
        "# Настройки цвета фона\n",
        "plt.rcParams['figure.facecolor'] = '#212946'\n",
        "plt.rcParams['axes.facecolor'] = '#212946'\n",
        "plt.rcParams['savefig.facecolor'] = '#212946'\n",
        "\n",
        "# Настройки цвета сетки\n",
        "plt.rcParams['grid.color'] = '#2A3459'\n",
        "\n",
        "plt.bar(emotions, counts, color=colors)\n",
        "\n",
        "plt.title('Классификация эмоций за все время')\n",
        "plt.show()\n"
      ],
      "metadata": {
        "colab": {
          "base_uri": "https://localhost:8080/",
          "height": 452
        },
        "id": "TnmvOcTh-c4U",
        "outputId": "8de11fd6-b67e-4076-b01b-024266771431"
      },
      "execution_count": null,
      "outputs": [
        {
          "output_type": "display_data",
          "data": {
            "text/plain": [
              "<Figure size 640x480 with 1 Axes>"
            ],
            "image/png": "[encoded data removed]"
          },
          "metadata": {}
        }
      ]
    },
    {
      "cell_type": "code",
      "source": [
        "# ХРЕНЬ\n",
        "# result - это словарь с результатами эмоций и их вероятностями\n",
        "time_values = []\n",
        "emotion_values = []\n",
        "\n",
        "for key, value in result.items():\n",
        "    # Получаем эмоции и вероятности из словаря результатов\n",
        "    emotions, probabilities = zip(*value.items())\n",
        "\n",
        "    # Сортируем эмоции по убыванию вероятностей\n",
        "    sorted_emotions = [emotion for _, emotion in sorted(zip(probabilities, emotions), reverse=True)]\n",
        "    sorted_probabilities = sorted(probabilities, reverse=True)\n",
        "\n",
        "    # Выбираем наиболее вероятную эмоцию\n",
        "    top_emotion = sorted_emotions[0]\n",
        "    top_probability = sorted_probabilities[0]\n",
        "\n",
        "    # Добавляем значения времени и эмоции в соответствующие списки\n",
        "    time_values.append(key)\n",
        "    emotion_values.append(top_emotion)\n",
        "\n",
        "# Построим линейную зависимость наиболее вероятной эмоции от времени\n",
        "plt.figure(figsize=(8, 6))\n",
        "plt.plot(time_values, emotion_values, marker='o')\n",
        "plt.xlabel('Время')\n",
        "plt.ylabel('Наиболее вероятная эмоция')\n",
        "plt.title('Зависимость наиболее вероятной эмоции от времени')\n",
        "plt.show()"
      ],
      "metadata": {
        "colab": {
          "base_uri": "https://localhost:8080/",
          "height": 564
        },
        "id": "09oerHYCKxA3",
        "outputId": "7b5f22f0-9d7c-4d93-ef84-74a44ceb836f"
      },
      "execution_count": null,
      "outputs": [
        {
          "output_type": "display_data",
          "data": {
            "text/plain": [
              "<Figure size 800x600 with 1 Axes>"
            ],
            "image/png": "[encoded data removed]"
          },
          "metadata": {}
        }
      ]
    },
    {
      "cell_type": "code",
      "source": [
        "\n"
      ],
      "metadata": {
        "id": "hiC-7U04MgV_"
      },
      "execution_count": null,
      "outputs": []
    },
    {
      "cell_type": "code",
      "source": [
        "\n",
        "result = vr.recognize(voice_files[0], return_single_label=True)\n",
        "aprint(result)"
      ],
      "metadata": {
        "colab": {
          "base_uri": "https://localhost:8080/",
          "height": 262
        },
        "id": "60G9EJMhzIpj",
        "outputId": "1d9a6dbe-23d3-4896-a81e-141118df51bb"
      },
      "execution_count": null,
      "outputs": [
        {
          "output_type": "stream",
          "name": "stderr",
          "text": [
            "Some weights of the model checkpoint at aniemore/wavlm-emotion-russian-resd were not used when initializing WavLMForSequenceClassification: ['wavlm.encoder.pos_conv_embed.conv.weight_g', 'wavlm.encoder.pos_conv_embed.conv.weight_v']\n",
            "- This IS expected if you are initializing WavLMForSequenceClassification from the checkpoint of a model trained on another task or with another architecture (e.g. initializing a BertForSequenceClassification model from a BertForPreTraining model).\n",
            "- This IS NOT expected if you are initializing WavLMForSequenceClassification from the checkpoint of a model that you expect to be exactly identical (initializing a BertForSequenceClassification model from a BertForSequenceClassification model).\n",
            "Some weights of WavLMForSequenceClassification were not initialized from the model checkpoint at aniemore/wavlm-emotion-russian-resd and are newly initialized: ['wavlm.encoder.pos_conv_embed.conv.parametrizations.weight.original0', 'wavlm.encoder.pos_conv_embed.conv.parametrizations.weight.original1']\n",
            "You should probably TRAIN this model on a down-stream task to be able to use it for predictions and inference.\n",
            "Some weights of the model checkpoint at aniemore/wavlm-emotion-russian-resd were not used when initializing WavLMForSequenceClassification: ['wavlm.encoder.pos_conv_embed.conv.weight_g', 'wavlm.encoder.pos_conv_embed.conv.weight_v']\n",
            "- This IS expected if you are initializing WavLMForSequenceClassification from the checkpoint of a model trained on another task or with another architecture (e.g. initializing a BertForSequenceClassification model from a BertForPreTraining model).\n",
            "- This IS NOT expected if you are initializing WavLMForSequenceClassification from the checkpoint of a model that you expect to be exactly identical (initializing a BertForSequenceClassification model from a BertForSequenceClassification model).\n",
            "Some weights of WavLMForSequenceClassification were not initialized from the model checkpoint at aniemore/wavlm-emotion-russian-resd and are newly initialized: ['wavlm.encoder.pos_conv_embed.conv.parametrizations.weight.original0', 'wavlm.encoder.pos_conv_embed.conv.parametrizations.weight.original1']\n",
            "You should probably TRAIN this model on a down-stream task to be able to use it for predictions and inference.\n",
            "/usr/local/lib/python3.10/dist-packages/torch/nn/functional.py:5076: UserWarning: Support for mismatched key_padding_mask and attn_mask is deprecated. Use same type for both instead.\n",
            "  warnings.warn(\n"
          ]
        },
        {
          "output_type": "display_data",
          "data": {
            "text/plain": [
              "disgust\n"
            ],
            "text/html": [
              "<pre style=\"white-space:pre;overflow-x:auto;line-height:normal;font-family:Menlo,'DejaVu Sans Mono',consolas,'Courier New',monospace\">disgust\n",
              "</pre>\n"
            ]
          },
          "metadata": {}
        }
      ]
    },
    {
      "cell_type": "code",
      "source": [
        "\n",
        "result = vr.recognize(voice_files, return_single_label=True)\n",
        "print(result)"
      ],
      "metadata": {
        "colab": {
          "base_uri": "https://localhost:8080/",
          "height": 357
        },
        "id": "z4YuKfvgzReZ",
        "outputId": "ec668822-1cc7-4936-e9f3-e2059b0ec138"
      },
      "execution_count": null,
      "outputs": [
        {
          "output_type": "stream",
          "name": "stderr",
          "text": [
            "Some weights of the model checkpoint at aniemore/wavlm-emotion-russian-resd were not used when initializing WavLMForSequenceClassification: ['wavlm.encoder.pos_conv_embed.conv.weight_v', 'wavlm.encoder.pos_conv_embed.conv.weight_g']\n",
            "- This IS expected if you are initializing WavLMForSequenceClassification from the checkpoint of a model trained on another task or with another architecture (e.g. initializing a BertForSequenceClassification model from a BertForPreTraining model).\n",
            "- This IS NOT expected if you are initializing WavLMForSequenceClassification from the checkpoint of a model that you expect to be exactly identical (initializing a BertForSequenceClassification model from a BertForSequenceClassification model).\n",
            "Some weights of WavLMForSequenceClassification were not initialized from the model checkpoint at aniemore/wavlm-emotion-russian-resd and are newly initialized: ['wavlm.encoder.pos_conv_embed.conv.parametrizations.weight.original1', 'wavlm.encoder.pos_conv_embed.conv.parametrizations.weight.original0']\n",
            "You should probably TRAIN this model on a down-stream task to be able to use it for predictions and inference.\n",
            "Some weights of the model checkpoint at aniemore/wavlm-emotion-russian-resd were not used when initializing WavLMForSequenceClassification: ['wavlm.encoder.pos_conv_embed.conv.weight_v', 'wavlm.encoder.pos_conv_embed.conv.weight_g']\n",
            "- This IS expected if you are initializing WavLMForSequenceClassification from the checkpoint of a model trained on another task or with another architecture (e.g. initializing a BertForSequenceClassification model from a BertForPreTraining model).\n",
            "- This IS NOT expected if you are initializing WavLMForSequenceClassification from the checkpoint of a model that you expect to be exactly identical (initializing a BertForSequenceClassification model from a BertForSequenceClassification model).\n",
            "Some weights of WavLMForSequenceClassification were not initialized from the model checkpoint at aniemore/wavlm-emotion-russian-resd and are newly initialized: ['wavlm.encoder.pos_conv_embed.conv.parametrizations.weight.original1', 'wavlm.encoder.pos_conv_embed.conv.parametrizations.weight.original0']\n",
            "You should probably TRAIN this model on a down-stream task to be able to use it for predictions and inference.\n"
          ]
        },
        {
          "output_type": "display_data",
          "data": {
            "text/plain": [
              "\u001b[1m{\u001b[0m\n",
              "    \u001b[32m'my_voice \u001b[0m\u001b[32m(\u001b[0m\u001b[32m2\u001b[0m\u001b[32m)\u001b[0m\u001b[32m.ogg'\u001b[0m: \u001b[32m'disgust'\u001b[0m,\n",
              "    \u001b[32m'my_voice \u001b[0m\u001b[32m(\u001b[0m\u001b[32m6\u001b[0m\u001b[32m)\u001b[0m\u001b[32m.ogg'\u001b[0m: \u001b[32m'disgust'\u001b[0m,\n",
              "    \u001b[32m'my_voice \u001b[0m\u001b[32m(\u001b[0m\u001b[32m3\u001b[0m\u001b[32m)\u001b[0m\u001b[32m.ogg'\u001b[0m: \u001b[32m'disgust'\u001b[0m,\n",
              "    \u001b[32m'my_voice \u001b[0m\u001b[32m(\u001b[0m\u001b[32m5\u001b[0m\u001b[32m)\u001b[0m\u001b[32m.ogg'\u001b[0m: \u001b[32m'disgust'\u001b[0m,\n",
              "    \u001b[32m'my_voice \u001b[0m\u001b[32m(\u001b[0m\u001b[32m4\u001b[0m\u001b[32m)\u001b[0m\u001b[32m.ogg'\u001b[0m: \u001b[32m'disgust'\u001b[0m,\n",
              "    \u001b[32m'my_voice \u001b[0m\u001b[32m(\u001b[0m\u001b[32m1\u001b[0m\u001b[32m)\u001b[0m\u001b[32m.ogg'\u001b[0m: \u001b[32m'disgust'\u001b[0m,\n",
              "    \u001b[32m'my_voice.ogg'\u001b[0m: \u001b[32m'disgust'\u001b[0m\n",
              "\u001b[1m}\u001b[0m\n"
            ],
            "text/html": [
              "<pre style=\"white-space:pre;overflow-x:auto;line-height:normal;font-family:Menlo,'DejaVu Sans Mono',consolas,'Courier New',monospace\"><span style=\"font-weight: bold\">{</span>\n",
              "    <span style=\"color: #008000; text-decoration-color: #008000\">'my_voice (2).ogg'</span>: <span style=\"color: #008000; text-decoration-color: #008000\">'disgust'</span>,\n",
              "    <span style=\"color: #008000; text-decoration-color: #008000\">'my_voice (6).ogg'</span>: <span style=\"color: #008000; text-decoration-color: #008000\">'disgust'</span>,\n",
              "    <span style=\"color: #008000; text-decoration-color: #008000\">'my_voice (3).ogg'</span>: <span style=\"color: #008000; text-decoration-color: #008000\">'disgust'</span>,\n",
              "    <span style=\"color: #008000; text-decoration-color: #008000\">'my_voice (5).ogg'</span>: <span style=\"color: #008000; text-decoration-color: #008000\">'disgust'</span>,\n",
              "    <span style=\"color: #008000; text-decoration-color: #008000\">'my_voice (4).ogg'</span>: <span style=\"color: #008000; text-decoration-color: #008000\">'disgust'</span>,\n",
              "    <span style=\"color: #008000; text-decoration-color: #008000\">'my_voice (1).ogg'</span>: <span style=\"color: #008000; text-decoration-color: #008000\">'disgust'</span>,\n",
              "    <span style=\"color: #008000; text-decoration-color: #008000\">'my_voice.ogg'</span>: <span style=\"color: #008000; text-decoration-color: #008000\">'disgust'</span>\n",
              "<span style=\"font-weight: bold\">}</span>\n",
              "</pre>\n"
            ]
          },
          "metadata": {}
        }
      ]
    }
  ]
}